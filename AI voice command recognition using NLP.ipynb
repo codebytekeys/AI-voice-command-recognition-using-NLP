{
 "cells": [
  {
   "cell_type": "markdown",
   "id": "f2dc7268",
   "metadata": {},
   "source": [
    "# AI voice command  recognition  using NLP\n",
    "install dpendenciese"
   ]
  },
  {
   "cell_type": "code",
   "execution_count": 1,
   "id": "69ca30f9",
   "metadata": {},
   "outputs": [
    {
     "name": "stdout",
     "output_type": "stream",
     "text": [
      "Requirement already satisfied: pyttsx3 in c:\\users\\jarvis\\anaconda3\\lib\\site-packages (2.90)\n",
      "Requirement already satisfied: comtypes in c:\\users\\jarvis\\anaconda3\\lib\\site-packages (from pyttsx3) (1.1.10)\n",
      "Requirement already satisfied: pywin32 in c:\\users\\jarvis\\anaconda3\\lib\\site-packages (from pyttsx3) (302)\n",
      "Requirement already satisfied: pypiwin32 in c:\\users\\jarvis\\anaconda3\\lib\\site-packages (from pyttsx3) (223)\n",
      "Note: you may need to restart the kernel to use updated packages.\n",
      "Requirement already satisfied: pyttsx3 in c:\\users\\jarvis\\anaconda3\\lib\\site-packages (2.90)\n",
      "Requirement already satisfied: comtypes in c:\\users\\jarvis\\anaconda3\\lib\\site-packages (from pyttsx3) (1.1.10)\n",
      "Requirement already satisfied: pywin32 in c:\\users\\jarvis\\anaconda3\\lib\\site-packages (from pyttsx3) (302)\n",
      "Requirement already satisfied: pypiwin32 in c:\\users\\jarvis\\anaconda3\\lib\\site-packages (from pyttsx3) (223)\n",
      "Note: you may need to restart the kernel to use updated packages.\n"
     ]
    }
   ],
   "source": [
    "pip install pyttsx3"
   ]
  },
  {
   "cell_type": "code",
   "execution_count": 2,
   "id": "b343a263",
   "metadata": {},
   "outputs": [
    {
     "name": "stdout",
     "output_type": "stream",
     "text": [
      "Requirement already satisfied: speechRecognition in c:\\users\\jarvis\\anaconda3\\lib\\site-packages (3.8.1)\n",
      "Note: you may need to restart the kernel to use updated packages.\n",
      "Requirement already satisfied: speechRecognition in c:\\users\\jarvis\\anaconda3\\lib\\site-packages (3.8.1)\n",
      "Note: you may need to restart the kernel to use updated packages.\n"
     ]
    }
   ],
   "source": [
    "pip install speechRecognition"
   ]
  },
  {
   "cell_type": "code",
   "execution_count": 3,
   "id": "cd5b0f15",
   "metadata": {},
   "outputs": [
    {
     "name": "stdout",
     "output_type": "stream",
     "text": [
      "Requirement already satisfied: wikipedia in c:\\users\\jarvis\\anaconda3\\lib\\site-packages (1.4.0)\n",
      "Requirement already satisfied: beautifulsoup4 in c:\\users\\jarvis\\anaconda3\\lib\\site-packages (from wikipedia) (4.10.0)\n",
      "Requirement already satisfied: requests<3.0.0,>=2.0.0 in c:\\users\\jarvis\\anaconda3\\lib\\site-packages (from wikipedia) (2.27.1)\n",
      "Requirement already satisfied: idna<4,>=2.5 in c:\\users\\jarvis\\anaconda3\\lib\\site-packages (from requests<3.0.0,>=2.0.0->wikipedia) (3.3)\n",
      "Requirement already satisfied: certifi>=2017.4.17 in c:\\users\\jarvis\\anaconda3\\lib\\site-packages (from requests<3.0.0,>=2.0.0->wikipedia) (2021.10.8)\n",
      "Requirement already satisfied: charset-normalizer~=2.0.0 in c:\\users\\jarvis\\anaconda3\\lib\\site-packages (from requests<3.0.0,>=2.0.0->wikipedia) (2.0.4)\n",
      "Requirement already satisfied: urllib3<1.27,>=1.21.1 in c:\\users\\jarvis\\anaconda3\\lib\\site-packages (from requests<3.0.0,>=2.0.0->wikipedia) (1.26.8)\n",
      "Requirement already satisfied: soupsieve>1.2 in c:\\users\\jarvis\\anaconda3\\lib\\site-packages (from beautifulsoup4->wikipedia) (2.3.1)\n",
      "Note: you may need to restart the kernel to use updated packages.\n",
      "Requirement already satisfied: wikipedia in c:\\users\\jarvis\\anaconda3\\lib\\site-packages (1.4.0)\n",
      "Requirement already satisfied: beautifulsoup4 in c:\\users\\jarvis\\anaconda3\\lib\\site-packages (from wikipedia) (4.10.0)\n",
      "Requirement already satisfied: requests<3.0.0,>=2.0.0 in c:\\users\\jarvis\\anaconda3\\lib\\site-packages (from wikipedia) (2.27.1)\n",
      "Requirement already satisfied: idna<4,>=2.5 in c:\\users\\jarvis\\anaconda3\\lib\\site-packages (from requests<3.0.0,>=2.0.0->wikipedia) (3.3)\n",
      "Requirement already satisfied: certifi>=2017.4.17 in c:\\users\\jarvis\\anaconda3\\lib\\site-packages (from requests<3.0.0,>=2.0.0->wikipedia) (2021.10.8)\n",
      "Requirement already satisfied: charset-normalizer~=2.0.0 in c:\\users\\jarvis\\anaconda3\\lib\\site-packages (from requests<3.0.0,>=2.0.0->wikipedia) (2.0.4)\n",
      "Requirement already satisfied: urllib3<1.27,>=1.21.1 in c:\\users\\jarvis\\anaconda3\\lib\\site-packages (from requests<3.0.0,>=2.0.0->wikipedia) (1.26.8)\n",
      "Requirement already satisfied: soupsieve>1.2 in c:\\users\\jarvis\\anaconda3\\lib\\site-packages (from beautifulsoup4->wikipedia) (2.3.1)\n",
      "Note: you may need to restart the kernel to use updated packages.\n"
     ]
    }
   ],
   "source": [
    "pip install wikipedia"
   ]
  },
  {
   "cell_type": "code",
   "execution_count": 4,
   "id": "92e7f1dc",
   "metadata": {},
   "outputs": [
    {
     "name": "stdout",
     "output_type": "stream",
     "text": [
      "Requirement already satisfied: pipwin in c:\\users\\jarvis\\anaconda3\\lib\\site-packages (0.5.1)\n",
      "Requirement already satisfied: six in c:\\users\\jarvis\\anaconda3\\lib\\site-packages (from pipwin) (1.16.0)\n",
      "Requirement already satisfied: beautifulsoup4>=4.9.0 in c:\\users\\jarvis\\anaconda3\\lib\\site-packages (from pipwin) (4.10.0)\n",
      "Requirement already satisfied: pyprind in c:\\users\\jarvis\\anaconda3\\lib\\site-packages (from pipwin) (2.11.3)\n",
      "Requirement already satisfied: pySmartDL>=1.3.1 in c:\\users\\jarvis\\anaconda3\\lib\\site-packages (from pipwin) (1.3.4)\n",
      "Requirement already satisfied: requests in c:\\users\\jarvis\\anaconda3\\lib\\site-packages (from pipwin) (2.27.1)\n",
      "Requirement already satisfied: js2py in c:\\users\\jarvis\\anaconda3\\lib\\site-packages (from pipwin) (0.71)\n",
      "Requirement already satisfied: docopt in c:\\users\\jarvis\\anaconda3\\lib\\site-packages (from pipwin) (0.6.2)\n",
      "Requirement already satisfied: packaging in c:\\users\\jarvis\\anaconda3\\lib\\site-packages (from pipwin) (21.3)\n",
      "Requirement already satisfied: soupsieve>1.2 in c:\\users\\jarvis\\anaconda3\\lib\\site-packages (from beautifulsoup4>=4.9.0->pipwin) (2.3.1)\n",
      "Requirement already satisfied: pyjsparser>=2.5.1 in c:\\users\\jarvis\\anaconda3\\lib\\site-packages (from js2py->pipwin) (2.7.1)\n",
      "Requirement already satisfied: tzlocal>=1.2 in c:\\users\\jarvis\\anaconda3\\lib\\site-packages (from js2py->pipwin) (4.1)\n",
      "Requirement already satisfied: pytz-deprecation-shim in c:\\users\\jarvis\\anaconda3\\lib\\site-packages (from tzlocal>=1.2->js2py->pipwin) (0.1.0.post0)\n",
      "Requirement already satisfied: tzdata in c:\\users\\jarvis\\anaconda3\\lib\\site-packages (from tzlocal>=1.2->js2py->pipwin) (2021.5)\n",
      "Requirement already satisfied: pyparsing!=3.0.5,>=2.0.2 in c:\\users\\jarvis\\anaconda3\\lib\\site-packages (from packaging->pipwin) (3.0.4)\n",
      "Requirement already satisfied: idna<4,>=2.5 in c:\\users\\jarvis\\anaconda3\\lib\\site-packages (from requests->pipwin) (3.3)\n",
      "Requirement already satisfied: certifi>=2017.4.17 in c:\\users\\jarvis\\anaconda3\\lib\\site-packages (from requests->pipwin) (2021.10.8)\n",
      "Requirement already satisfied: charset-normalizer~=2.0.0 in c:\\users\\jarvis\\anaconda3\\lib\\site-packages (from requests->pipwin) (2.0.4)\n",
      "Requirement already satisfied: urllib3<1.27,>=1.21.1 in c:\\users\\jarvis\\anaconda3\\lib\\site-packages (from requests->pipwin) (1.26.8)\n",
      "Note: you may need to restart the kernel to use updated packages.\n",
      "Requirement already satisfied: pipwin in c:\\users\\jarvis\\anaconda3\\lib\\site-packages (0.5.1)\n",
      "Requirement already satisfied: six in c:\\users\\jarvis\\anaconda3\\lib\\site-packages (from pipwin) (1.16.0)\n",
      "Requirement already satisfied: beautifulsoup4>=4.9.0 in c:\\users\\jarvis\\anaconda3\\lib\\site-packages (from pipwin) (4.10.0)\n",
      "Requirement already satisfied: pyprind in c:\\users\\jarvis\\anaconda3\\lib\\site-packages (from pipwin) (2.11.3)\n",
      "Requirement already satisfied: pySmartDL>=1.3.1 in c:\\users\\jarvis\\anaconda3\\lib\\site-packages (from pipwin) (1.3.4)\n",
      "Requirement already satisfied: requests in c:\\users\\jarvis\\anaconda3\\lib\\site-packages (from pipwin) (2.27.1)\n",
      "Requirement already satisfied: js2py in c:\\users\\jarvis\\anaconda3\\lib\\site-packages (from pipwin) (0.71)\n",
      "Requirement already satisfied: docopt in c:\\users\\jarvis\\anaconda3\\lib\\site-packages (from pipwin) (0.6.2)\n",
      "Requirement already satisfied: packaging in c:\\users\\jarvis\\anaconda3\\lib\\site-packages (from pipwin) (21.3)\n",
      "Requirement already satisfied: soupsieve>1.2 in c:\\users\\jarvis\\anaconda3\\lib\\site-packages (from beautifulsoup4>=4.9.0->pipwin) (2.3.1)\n",
      "Requirement already satisfied: pyjsparser>=2.5.1 in c:\\users\\jarvis\\anaconda3\\lib\\site-packages (from js2py->pipwin) (2.7.1)\n",
      "Requirement already satisfied: tzlocal>=1.2 in c:\\users\\jarvis\\anaconda3\\lib\\site-packages (from js2py->pipwin) (4.1)\n",
      "Requirement already satisfied: pytz-deprecation-shim in c:\\users\\jarvis\\anaconda3\\lib\\site-packages (from tzlocal>=1.2->js2py->pipwin) (0.1.0.post0)\n",
      "Requirement already satisfied: tzdata in c:\\users\\jarvis\\anaconda3\\lib\\site-packages (from tzlocal>=1.2->js2py->pipwin) (2021.5)\n",
      "Requirement already satisfied: pyparsing!=3.0.5,>=2.0.2 in c:\\users\\jarvis\\anaconda3\\lib\\site-packages (from packaging->pipwin) (3.0.4)\n",
      "Requirement already satisfied: idna<4,>=2.5 in c:\\users\\jarvis\\anaconda3\\lib\\site-packages (from requests->pipwin) (3.3)\n",
      "Requirement already satisfied: certifi>=2017.4.17 in c:\\users\\jarvis\\anaconda3\\lib\\site-packages (from requests->pipwin) (2021.10.8)\n",
      "Requirement already satisfied: charset-normalizer~=2.0.0 in c:\\users\\jarvis\\anaconda3\\lib\\site-packages (from requests->pipwin) (2.0.4)\n",
      "Requirement already satisfied: urllib3<1.27,>=1.21.1 in c:\\users\\jarvis\\anaconda3\\lib\\site-packages (from requests->pipwin) (1.26.8)\n",
      "Note: you may need to restart the kernel to use updated packages.\n"
     ]
    }
   ],
   "source": [
    "pip install pipwin"
   ]
  },
  {
   "cell_type": "code",
   "execution_count": 5,
   "id": "8d81606e",
   "metadata": {},
   "outputs": [
    {
     "name": "stdout",
     "output_type": "stream",
     "text": [
      "Package `pyaudio` found in cache\n",
      "Downloading package . . .\n",
      "https://download.lfd.uci.edu/pythonlibs/x6hvwk7i/PyAudio-0.2.11-cp39-cp39-win_amd64.whl\n",
      "PyAudio-0.2.11-cp39-cp39-win_amd64.whl\n",
      "[*] 0 bytes / 111 kB @ 0 bytes/s [------------------] [0.0%, 0s left]   [*] 0 bytes / 111 kB @ 0 bytes/s [------------------] [0.0%, 0s left]   [*] 0 bytes / 111 kB @ 0 bytes/s [------------------] [0.0%, 0s left]   [*] 0 bytes / 111 kB @ 0 bytes/s [------------------] [0.0%, 0s left]   [*] 0 bytes / 111 kB @ 0 bytes/s [------------------] [0.0%, 0s left]   [*] 0 bytes / 111 kB @ 0 bytes/s [------------------] [0.0%, 0s left]   [*] 0 bytes / 111 kB @ 0 bytes/s [------------------] [0.0%, 0s left]   [*] 0 bytes / 111 kB @ 0 bytes/s [------------------] [0.0%, 0s left]   [*] 0 bytes / 111 kB @ 0 bytes/s [------------------] [0.0%, 0s left]   [*] 0 bytes / 111 kB @ 0 bytes/s [------------------] [0.0%, 0s left]   [*] 0 bytes / 111 kB @ 0 bytes/s [------------------] [0.0%, 0s left]   [*] 0 bytes / 111 kB @ 0 bytes/s [------------------] [0.0%, 0s left]   [*] 0 bytes / 111 kB @ 0 bytes/s [------------------] [0.0%, 0s left]   [*] 8 kB / 111 kB @ 6 kB/s [#-----------------] [7.2%, 0s left]   [*] 8 kB / 111 kB @ 5 kB/s [#-----------------] [7.2%, 0s left]   [*] 40 kB / 111 kB @ 25 kB/s [######------------] [36.0%, 0s left]  [*] 40 kB / 111 kB @ 24 kB/s [######------------] [36.0%, 0s left]  Processing c:\\users\\jarvis\\pipwin\\pyaudio-0.2.11-cp39-cp39-win_amd64.whl\n",
      "PyAudio is already installed with the same version as the provided wheel. Use --force-reinstall to force an installation of the wheel.\n",
      "[*] 111 kB / 111 kB @ 24 kB/s [##################] [100%, 0s left]    \n",
      "Package `pyaudio` found in cache\n",
      "Downloading package . . .\n",
      "https://download.lfd.uci.edu/pythonlibs/x6hvwk7i/PyAudio-0.2.11-cp39-cp39-win_amd64.whl\n",
      "PyAudio-0.2.11-cp39-cp39-win_amd64.whl\n",
      "[*] 0 bytes / 111 kB @ 0 bytes/s [------------------] [0.0%, 0s left]   [*] 0 bytes / 111 kB @ 0 bytes/s [------------------] [0.0%, 0s left]   [*] 0 bytes / 111 kB @ 0 bytes/s [------------------] [0.0%, 0s left]   [*] 0 bytes / 111 kB @ 0 bytes/s [------------------] [0.0%, 0s left]   [*] 0 bytes / 111 kB @ 0 bytes/s [------------------] [0.0%, 0s left]   [*] 0 bytes / 111 kB @ 0 bytes/s [------------------] [0.0%, 0s left]   [*] 0 bytes / 111 kB @ 0 bytes/s [------------------] [0.0%, 0s left]   [*] 0 bytes / 111 kB @ 0 bytes/s [------------------] [0.0%, 0s left]   [*] 0 bytes / 111 kB @ 0 bytes/s [------------------] [0.0%, 0s left]   [*] 0 bytes / 111 kB @ 0 bytes/s [------------------] [0.0%, 0s left]   [*] 0 bytes / 111 kB @ 0 bytes/s [------------------] [0.0%, 0s left]   [*] 0 bytes / 111 kB @ 0 bytes/s [------------------] [0.0%, 0s left]   [*] 0 bytes / 111 kB @ 0 bytes/s [------------------] [0.0%, 0s left]   [*] 8 kB / 111 kB @ 6 kB/s [#-----------------] [7.2%, 0s left]   [*] 8 kB / 111 kB @ 5 kB/s [#-----------------] [7.2%, 0s left]   [*] 40 kB / 111 kB @ 25 kB/s [######------------] [36.0%, 0s left]  [*] 40 kB / 111 kB @ 24 kB/s [######------------] [36.0%, 0s left]  Processing c:\\users\\jarvis\\pipwin\\pyaudio-0.2.11-cp39-cp39-win_amd64.whl\n",
      "PyAudio is already installed with the same version as the provided wheel. Use --force-reinstall to force an installation of the wheel.\n",
      "[*] 111 kB / 111 kB @ 24 kB/s [##################] [100%, 0s left]    \n"
     ]
    }
   ],
   "source": [
    "!pipwin install pyaudio "
   ]
  },
  {
   "cell_type": "code",
   "execution_count": 6,
   "id": "c54d9d59",
   "metadata": {},
   "outputs": [],
   "source": [
    "import pyttsx3 \n",
    "import speech_recognition as sr \n",
    "import datetime\n",
    "import wikipedia \n",
    "import webbrowser\n",
    "import os\n",
    "import smtplib"
   ]
  },
  {
   "cell_type": "code",
   "execution_count": 7,
   "id": "8757d983",
   "metadata": {},
   "outputs": [
    {
     "name": "stdout",
     "output_type": "stream",
     "text": [
      "Requirement already satisfied: pypiwin32 in c:\\users\\jarvis\\anaconda3\\lib\\site-packages (223)\n",
      "Requirement already satisfied: pywin32>=223 in c:\\users\\jarvis\\anaconda3\\lib\\site-packages (from pypiwin32) (302)\n",
      "Requirement already satisfied: pypiwin32 in c:\\users\\jarvis\\anaconda3\\lib\\site-packages (223)\n",
      "Requirement already satisfied: pywin32>=223 in c:\\users\\jarvis\\anaconda3\\lib\\site-packages (from pypiwin32) (302)\n"
     ]
    }
   ],
   "source": [
    "!pip install pypiwin32"
   ]
  },
  {
   "cell_type": "code",
   "execution_count": 8,
   "id": "f5e64e88",
   "metadata": {},
   "outputs": [],
   "source": [
    "engine = pyttsx3.init('sapi5')\n",
    "voices = engine.getProperty('voices')\n",
    "# print(voices[1].id)\n",
    "engine.setProperty('voice', voices[1].id)"
   ]
  },
  {
   "cell_type": "code",
   "execution_count": 9,
   "id": "2b3e2511",
   "metadata": {},
   "outputs": [],
   "source": [
    "def speak(audio):\n",
    "    engine.say(audio)\n",
    "    engine.runAndWait()"
   ]
  },
  {
   "cell_type": "code",
   "execution_count": 10,
   "id": "750fe326",
   "metadata": {},
   "outputs": [],
   "source": [
    "def wishMe():\n",
    "    hour = int(datetime.datetime.now().hour)\n",
    "    if hour>=0 and hour<12:\n",
    "        speak(\"Good Morning!\")\n",
    "\n",
    "    elif hour>=12 and hour<18:\n",
    "        speak(\"Good Afternoon!\")   \n",
    "\n",
    "    else:\n",
    "        speak(\"Good Evening!\")  \n",
    "\n",
    "    speak(\"I am Friday Sir. let me help you\")  "
   ]
  },
  {
   "cell_type": "code",
   "execution_count": 11,
   "id": "c2c23c8c",
   "metadata": {},
   "outputs": [],
   "source": [
    "def takeCommand():\n",
    "    #It takes microphone input from the user and returns string output\n",
    "\n",
    "    r = sr.Recognizer()\n",
    "    with sr.Microphone() as source:\n",
    "        print(\"Listening...\")\n",
    "        r.pause_threshold = 1\n",
    "        audio = r.listen(source)\n",
    "\n",
    "    try:\n",
    "        print(\"Recognizing...\")    \n",
    "        query = r.recognize_google(audio, language='en-in')\n",
    "        print(f\"User said: {query}\\n\")\n",
    "\n",
    "    except Exception as e:\n",
    "        # print(e)    \n",
    "        print(\"Say that again please...\")  \n",
    "        return \"None\"\n",
    "    return query"
   ]
  },
  {
   "cell_type": "code",
   "execution_count": 12,
   "id": "2a9381d1",
   "metadata": {},
   "outputs": [],
   "source": [
    "def sendEmail(to, content):\n",
    "    server = smtplib.SMTP('smtp.gmail.com', 587)\n",
    "    server.ehlo()\n",
    "    server.starttls()\n",
    "    server.login('codeskeysbyte@gmail.com', 'your-password')\n",
    "    server.sendmail('someone000@gmail.com', to, content)\n",
    "    server.close()"
   ]
  },
  {
   "cell_type": "code",
   "execution_count": null,
   "id": "ad92bbc1",
   "metadata": {},
   "outputs": [
    {
     "name": "stdout",
     "output_type": "stream",
     "text": [
      "Listening...\n",
      "Listening...\n",
      "Recognizing...\n",
      "Recognizing...\n",
      "Say that again please...\n",
      "Listening...\n",
      "Say that again please...\n",
      "Listening...\n",
      "Recognizing...\n",
      "Recognizing...\n",
      "Say that again please...\n",
      "Listening...\n",
      "Say that again please...\n",
      "Listening...\n",
      "Recognizing...\n",
      "Recognizing...\n",
      "Say that again please...\n",
      "Listening...\n",
      "Say that again please...\n",
      "Listening...\n",
      "Recognizing...\n",
      "Recognizing...\n",
      "Say that again please...\n",
      "Listening...\n",
      "Say that again please...\n",
      "Listening...\n",
      "Recognizing...\n",
      "Recognizing...\n",
      "Say that again please...\n",
      "Listening...\n",
      "Say that again please...\n",
      "Listening...\n",
      "Recognizing...\n",
      "Recognizing...\n",
      "Say that again please...\n",
      "Listening...\n",
      "Say that again please...\n",
      "Listening...\n",
      "Recognizing...\n",
      "Recognizing...\n",
      "Say that again please...\n",
      "Listening...\n",
      "Say that again please...\n",
      "Listening...\n",
      "Recognizing...\n",
      "Recognizing...\n",
      "Say that again please...\n",
      "Listening...\n",
      "Say that again please...\n",
      "Listening...\n",
      "Recognizing...\n",
      "Recognizing...\n",
      "Say that again please...\n",
      "Listening...\n",
      "Say that again please...\n",
      "Listening...\n",
      "Recognizing...\n",
      "Recognizing...\n",
      "Say that again please...\n",
      "Listening...\n",
      "Say that again please...\n",
      "Listening...\n",
      "Recognizing...\n",
      "Recognizing...\n",
      "Say that again please...\n",
      "Listening...\n",
      "Say that again please...\n",
      "Listening...\n",
      "Recognizing...\n",
      "Recognizing...\n",
      "Say that again please...\n",
      "Listening...\n",
      "Say that again please...\n",
      "Listening...\n",
      "Recognizing...\n",
      "Recognizing...\n",
      "Say that again please...\n",
      "Listening...\n",
      "Say that again please...\n",
      "Listening...\n",
      "Recognizing...\n",
      "Recognizing...\n",
      "Say that again please...\n",
      "Listening...\n",
      "Say that again please...\n",
      "Listening...\n",
      "Recognizing...\n",
      "Recognizing...\n",
      "Say that again please...\n",
      "Listening...\n",
      "Say that again please...\n",
      "Listening...\n",
      "Recognizing...\n",
      "Recognizing...\n",
      "Say that again please...\n",
      "Listening...\n",
      "Say that again please...\n",
      "Listening...\n",
      "Recognizing...\n",
      "Recognizing...\n",
      "Say that again please...\n",
      "Listening...\n",
      "Say that again please...\n",
      "Listening...\n",
      "Recognizing...\n",
      "Recognizing...\n",
      "Say that again please...\n",
      "Listening...\n",
      "Say that again please...\n",
      "Listening...\n",
      "Recognizing...\n",
      "Recognizing...\n",
      "Say that again please...\n",
      "Listening...\n",
      "Say that again please...\n",
      "Listening...\n"
     ]
    }
   ],
   "source": [
    "if __name__ == \"__main__\":\n",
    "    wishMe()\n",
    "    while True:\n",
    "    # if 1:\n",
    "        query = takeCommand().lower()\n",
    "\n",
    "        # Logic for executing tasks based on query\n",
    "        if 'wikipedia' in query:\n",
    "            speak('Searching Wikipedia...')\n",
    "            query = query.replace(\"wikipedia\", \"\")\n",
    "            results = wikipedia.summary(query, sentences=2)\n",
    "            speak(\"According to Wikipedia\")\n",
    "            print(results)\n",
    "            speak(results)\n",
    "        elif 'open youtube' in query:\n",
    "            webbrowser.open(\"youtube.com\")\n",
    "\n",
    "        elif 'open google' in query:\n",
    "            webbrowser.open(\"google.com\")\n",
    "\n",
    "        elif 'open stackoverflow' in query:\n",
    "            webbrowser.open(\"stackoverflow.com\") \n",
    "            \n",
    "        elif 'jiosavaan' in query:\n",
    "            webbrowser.open(\"jiosaavn.com\")\n",
    "            \n",
    "        elif 'cricbuzz' in query:\n",
    "            webbrowser.open(\"cricbuzz.com\")\n",
    "            \n",
    "        elif 'the time' in query:\n",
    "            strTime = datetime.datetime.now().strftime(\"%H:%M:%S\")    \n",
    "            speak(f\"Sir, the time is {strTime}\")\n"
   ]
  },
  {
   "cell_type": "code",
   "execution_count": null,
   "id": "b2bfee93",
   "metadata": {},
   "outputs": [],
   "source": [
    "def wishme():\n",
    "\n",
    "hour = int(datetime.datetime.now().hour)"
   ]
  },
  {
   "cell_type": "code",
   "execution_count": null,
   "id": "9fb18e2d",
   "metadata": {},
   "outputs": [],
   "source": [
    "elif 'open code' in query:\n",
    "            codePath = \"E:\\\\Opencv project\\\\project\\\\ven\\\\Code.exe\"\n",
    "            os.startfile(codePath)"
   ]
  },
  {
   "cell_type": "code",
   "execution_count": null,
   "id": "7b816e5b",
   "metadata": {},
   "outputs": [],
   "source": [
    "elif 'email to someone' in query:\n",
    "            try:\n",
    "                speak(\"What should I say?\")\n",
    "                content = takeCommand()\n",
    "                to = \"someone000@gmail.com\"    \n",
    "                sendEmail(to, content)\n",
    "                speak(\"Email has been sent!\")\n",
    "            except Exception as e:\n",
    "                print(e)\n",
    "                speak(\" I am not able to send any information on this email\")"
   ]
  },
  {
   "cell_type": "markdown",
   "id": "c8a8941f",
   "metadata": {},
   "source": [
    "# With this, you have successfully made your very first virtual assistantand there we go ..\n",
    "Explore and try to add other functionalities in future` "
   ]
  },
  {
   "cell_type": "code",
   "execution_count": null,
   "id": "3df59654",
   "metadata": {},
   "outputs": [],
   "source": []
  },
  {
   "cell_type": "code",
   "execution_count": null,
   "id": "b5dad21b",
   "metadata": {},
   "outputs": [],
   "source": []
  },
  {
   "cell_type": "code",
   "execution_count": null,
   "id": "2111d9f5",
   "metadata": {},
   "outputs": [],
   "source": []
  }
 ],
 "metadata": {
  "kernelspec": {
   "display_name": "Python 3 (ipykernel)",
   "language": "python",
   "name": "python3"
  },
  "language_info": {
   "codemirror_mode": {
    "name": "ipython",
    "version": 3
   },
   "file_extension": ".py",
   "mimetype": "text/x-python",
   "name": "python",
   "nbconvert_exporter": "python",
   "pygments_lexer": "ipython3",
   "version": "3.9.7"
  }
 },
 "nbformat": 4,
 "nbformat_minor": 5
}
